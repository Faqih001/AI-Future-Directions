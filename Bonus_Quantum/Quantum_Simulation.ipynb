{
 "cells": [
  {
   "cell_type": "markdown",
   "id": "f5290067",
   "metadata": {},
   "source": [
    "# Quantum Computing Simulation: IBM Quantum Experience\n",
    "**Authors:** Fakii Mohammed, Andrew Ogembo, Chiboniso Nyoni  \n",
    "**Group:** 67 AI Software Engineers\n",
    "\n",
    "This notebook demonstrates a simple quantum circuit using Qiskit and explains its potential for optimizing AI tasks such as drug discovery."
   ]
  },
  {
   "cell_type": "markdown",
   "id": "ff4b3971",
   "metadata": {},
   "source": [
    "## 1. Install and Import Qiskit"
   ]
  },
  {
   "cell_type": "code",
   "execution_count": null,
   "id": "ef597a33",
   "metadata": {},
   "outputs": [],
   "source": [
    "# !pip install qiskit\n",
    "from qiskit import QuantumCircuit, Aer, execute"
   ]
  },
  {
   "cell_type": "markdown",
   "id": "a836f210",
   "metadata": {},
   "source": [
    "## 2. Create a Simple Quantum Circuit"
   ]
  },
  {
   "cell_type": "code",
   "execution_count": null,
   "id": "7c19382b",
   "metadata": {},
   "outputs": [],
   "source": [
    "qc = QuantumCircuit(2, 2)\n",
    "qc.h(0)\n",
    "qc.cx(0, 1)\n",
    "qc.measure([0,1], [0,1])\n",
    "qc.draw('mpl')"
   ]
  },
  {
   "cell_type": "markdown",
   "id": "dde056b6",
   "metadata": {},
   "source": [
    "## 3. Simulate the Circuit"
   ]
  },
  {
   "cell_type": "code",
   "execution_count": null,
   "id": "e2d6a459",
   "metadata": {},
   "outputs": [],
   "source": [
    "simulator = Aer.get_backend('qasm_simulator')\n",
    "result = execute(qc, simulator, shots=1024).result()\n",
    "counts = result.get_counts(qc)\n",
    "print('Measurement results:', counts)"
   ]
  },
  {
   "cell_type": "markdown",
   "id": "c429509a",
   "metadata": {},
   "source": [
    "## 4. Application: Optimizing AI Tasks\n",
    "Quantum circuits can accelerate combinatorial optimization in AI, such as molecular structure search in drug discovery, by exploring multiple solutions in parallel. This can lead to faster and more efficient AI-driven research."
   ]
  }
 ],
 "metadata": {
  "language_info": {
   "name": "python"
  }
 },
 "nbformat": 4,
 "nbformat_minor": 5
}
