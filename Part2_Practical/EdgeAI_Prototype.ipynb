{
 "cells": [
  {
   "cell_type": "markdown",
   "id": "18be53ba",
   "metadata": {},
   "source": [
    "# Edge AI Prototype: Image Classification with TensorFlow Lite\n",
    "**Authors:** Fakii Mohammed, Andrew Ogembo, Chiboniso Nyoni  \n",
    "**Group:** 67 AI Software Engineers\n",
    "\n",
    "This notebook demonstrates training a lightweight image classifier, converting it to TensorFlow Lite, and testing it for Edge AI deployment."
   ]
  },
  {
   "cell_type": "markdown",
   "id": "f4b64faf",
   "metadata": {},
   "source": [
    "## 1. Import Libraries"
   ]
  },
  {
   "cell_type": "code",
   "execution_count": null,
   "id": "7bc839d6",
   "metadata": {},
   "outputs": [],
   "source": [
    "import tensorflow as tf\n",
    "from tensorflow import keras\n",
    "import numpy as np\n",
    "import matplotlib.pyplot as plt"
   ]
  },
  {
   "cell_type": "markdown",
   "id": "c1408a2b",
   "metadata": {},
   "source": [
    "## 2. Load and Prepare Dataset\n",
    "(Replace with actual dataset loading code for recyclable items)"
   ]
  },
  {
   "cell_type": "code",
   "execution_count": null,
   "id": "138665b6",
   "metadata": {},
   "outputs": [],
   "source": [
    "# Example: Using CIFAR-10 as a placeholder for recyclable items\n",
    "(x_train, y_train), (x_test, y_test) = keras.datasets.cifar10.load_data()\n",
    "x_train, x_test = x_train / 255.0, x_test / 255.0"
   ]
  },
  {
   "cell_type": "markdown",
   "id": "31c978ab",
   "metadata": {},
   "source": [
    "## 3. Build and Train Model"
   ]
  },
  {
   "cell_type": "code",
   "execution_count": null,
   "id": "ad21e690",
   "metadata": {},
   "outputs": [],
   "source": [
    "model = keras.applications.MobileNetV2(input_shape=(32,32,3), weights=None, classes=10)\n",
    "model.compile(optimizer='adam', loss='sparse_categorical_crossentropy', metrics=['accuracy'])\n",
    "model.fit(x_train, y_train, epochs=3, validation_data=(x_test, y_test))"
   ]
  },
  {
   "cell_type": "markdown",
   "id": "bd3b6dad",
   "metadata": {},
   "source": [
    "## 4. Convert Model to TensorFlow Lite"
   ]
  },
  {
   "cell_type": "code",
   "execution_count": null,
   "id": "496da36a",
   "metadata": {},
   "outputs": [],
   "source": [
    "converter = tf.lite.TFLiteConverter.from_keras_model(model)\n",
    "tflite_model = converter.convert()\n",
    "with open('model.tflite', 'wb') as f:\n",
    "    f.write(tflite_model)"
   ]
  },
  {
   "cell_type": "markdown",
   "id": "7546ed6d",
   "metadata": {},
   "source": [
    "## 5. Evaluate TFLite Model (Simulation)"
   ]
  },
  {
   "cell_type": "code",
   "execution_count": null,
   "id": "0c7fae18",
   "metadata": {},
   "outputs": [],
   "source": [
    "# Load TFLite model and run inference on test images (simulation)\n",
    "interpreter = tf.lite.Interpreter(model_path='model.tflite')\n",
    "interpreter.allocate_tensors()\n",
    "input_details = interpreter.get_input_details()\n",
    "output_details = interpreter.get_output_details()\n",
    "\n",
    "# Test on a single image\n",
    "test_img = np.expand_dims(x_test[0], axis=0).astype(np.float32)\n",
    "interpreter.set_tensor(input_details[0]['index'], test_img)\n",
    "interpreter.invoke()\n",
    "output = interpreter.get_tensor(output_details[0]['index'])\n",
    "predicted = np.argmax(output)\n",
    "print('Predicted class:', predicted)"
   ]
  },
  {
   "cell_type": "markdown",
   "id": "b7b56fde",
   "metadata": {},
   "source": [
    "## 6. Edge AI Benefits\n",
    "Edge AI enables real-time, private, and low-latency inference on devices, making it ideal for applications like smart recycling bins or mobile waste sorting."
   ]
  }
 ],
 "metadata": {
  "language_info": {
   "name": "python"
  }
 },
 "nbformat": 4,
 "nbformat_minor": 5
}
